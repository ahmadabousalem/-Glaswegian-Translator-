{
  "nbformat": 4,
  "nbformat_minor": 0,
  "metadata": {
    "colab": {
      "provenance": [],
      "authorship_tag": "ABX9TyMqK49I8a4Ot6papo8pL9fb",
      "include_colab_link": true
    },
    "kernelspec": {
      "name": "python3",
      "display_name": "Python 3"
    },
    "language_info": {
      "name": "python"
    }
  },
  "cells": [
    {
      "cell_type": "markdown",
      "metadata": {
        "id": "view-in-github",
        "colab_type": "text"
      },
      "source": [
        "<a href=\"https://colab.research.google.com/github/ahmadabousalem/-Glaswegian-Translator-/blob/main/Untitled1.ipynb\" target=\"_parent\"><img src=\"https://colab.research.google.com/assets/colab-badge.svg\" alt=\"Open In Colab\"/></a>"
      ]
    },
    {
      "cell_type": "code",
      "source": [
        "# cyberpulse_ingestor.py\n",
        "import pandas as pd\n",
        "from datetime import datetime\n",
        "\n",
        "def log_data(source, data):\n",
        "    timestamp = datetime.now().strftime(\"%Y-%m-%d %H:%M:%S\")\n",
        "    log_entry = f\"{timestamp} | {source} | {data}\"\n",
        "\n",
        "    # Save to CSV (will become database)\n",
        "    pd.DataFrame([[timestamp, source, data]],\n",
        "                 columns=['timestamp','source','data']).to_csv('cyberpulse_log.csv', mode='a')\n",
        "\n",
        "    return f\"Logged: {log_entry}\"\n",
        "\n",
        "# Test with security data\n",
        "print(log_data(\"SECURITY\", \"Motion detected - Entry Gate\"))\n",
        "print(log_data(\"BUSINESS\", \"Sale completed - £149.99\"))"
      ],
      "metadata": {
        "id": "cxNugDeK_zmN"
      },
      "execution_count": null,
      "outputs": []
    }
  ]
}